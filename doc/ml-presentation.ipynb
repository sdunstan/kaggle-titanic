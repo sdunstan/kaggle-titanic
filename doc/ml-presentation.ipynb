{
 "cells": [
  {
   "cell_type": "markdown",
   "metadata": {
    "collapsed": true,
    "slideshow": {
     "slide_type": "slide"
    }
   },
   "source": [
    "# Math Is Fun!!!!!!\n",
    "Linear algebra and calculus are used to blah blah the blah blah so you can blah blah machine learning.\n"
   ]
  },
  {
   "cell_type": "markdown",
   "metadata": {
    "slideshow": {
     "slide_type": "slide"
    }
   },
   "source": [
    "![now for something completely different](completely-different.jpg)\n"
   ]
  },
  {
   "cell_type": "markdown",
   "metadata": {
    "slideshow": {
     "slide_type": "slide"
    }
   },
   "source": [
    "# Why oh why would do I do this?\n",
    "The problems machine learning solves are real pain in the neck problems. When you have some problem that looks like it is going to take one billion if-then-else statements, use machine learning to solve it.\n",
    "\n",
    "__A Definition__\n",
    "\n",
    "Artificial intelligence: a computer program used to solve an intractable problem.\n",
    "\n",
    "__An Example__\n",
    "\n",
    "The \"hello world\" of Kaggle is the morose task of figuring out who dies in the fridgid waters of the north atlantic when the Titanic tragically collides with an iceberg and sinks to the murky depths.\n",
    "\n",
    "SPOILER ALERT! Kate Winslet survives but Leonardo DiCaprio is turned into a dead human popcicle and sinks beneath the whitecaps. Can we generalize this idea? It seemed like women and children were piled onto the lifeboats while men and chello players did not fare as well. Is it cynical to guess that rich people survive and steerage class die? Let's use MACHINE LEARNING to test the hypothesis that sex, age, and ticket price determines if a passenger survives the Titanic disaster.\n"
   ]
  },
  {
   "cell_type": "markdown",
   "metadata": {},
   "source": [
    "# BUT FIRST, DATA SCIENCE IS MUNGING!"
   ]
  },
  {
   "cell_type": "code",
   "execution_count": null,
   "metadata": {
    "collapsed": false,
    "slideshow": {
     "slide_type": "slide"
    }
   },
   "outputs": [],
   "source": [
    "# Let's load the data and take a look...\n",
    "import pandas as pd # data processing, CSV file I/O (e.g. pd.read_csv)\n",
    "data = pd.read_csv('../input/train.csv')\n",
    "print(data[:5]) # print out first 5 rows"
   ]
  },
  {
   "cell_type": "code",
   "execution_count": null,
   "metadata": {
    "collapsed": false,
    "slideshow": {
     "slide_type": "slide"
    }
   },
   "outputs": [],
   "source": [
    "# Hmmm, let's focus on Sex, Age, and what they paid for their ticket\n",
    "print(data[['Survived', 'Sex', 'Age', 'Fare']][:10])"
   ]
  },
  {
   "cell_type": "markdown",
   "metadata": {},
   "source": [
    "There are three problems with this data:\n",
    "\n",
    "1. It all must be numeric data for our ML maths to crunch it.\n",
    "2. That NaN there is going to cause all kinds of trouble.\n",
    "3. (Just trust me) all the data needs to be on the same scale.\n",
    "\n",
    "The solutions for these problems:\n",
    "\n",
    "1. Convert male/female to 0 or 1\n",
    "2. Make some default for missing NaN data\n",
    "3. \"<a href=\"https://en.wikipedia.org/wiki/Normalization_(statistics)\">Normalize</a>\" the data. We will use feature scaling in this case to jam everything in to the range [0-1]."
   ]
  },
  {
   "cell_type": "code",
   "execution_count": null,
   "metadata": {
    "collapsed": false
   },
   "outputs": [],
   "source": [
    "# No snickering\n",
    "def sex_conversion(row):\n",
    "    if row['Sex'] == 'female':\n",
    "        return 1\n",
    "    else:\n",
    "        return 0\n",
    "\n",
    "data1 = data.copy()\n",
    "data1['norm_sex'] = data1.apply(sex_conversion, axis=1)\n",
    "\n",
    "print(data1[['Survived', 'Sex', 'norm_sex', 'Age', 'Fare']][:10])"
   ]
  },
  {
   "cell_type": "code",
   "execution_count": null,
   "metadata": {
    "collapsed": false
   },
   "outputs": [],
   "source": [
    "# Fill in missing data with the median. Other strategies include:\n",
    "#  Remove the row or use the most frequently occuring value.\n",
    "#  Interestingly, we could create another ML model to predict a row's missing\n",
    "#  values and fill in with that!\n",
    "data2 = data1.fillna(data.median())\n",
    "print(data2[['Survived', 'norm_sex', 'Age', 'Fare']][:10])"
   ]
  },
  {
   "cell_type": "code",
   "execution_count": null,
   "metadata": {
    "collapsed": false
   },
   "outputs": [],
   "source": [
    "def feature_scaler(df, col):\n",
    "    df['norm_' + col] = (df[col] - df[col].min()) / (df[col].max() - df[col].min())\n",
    "    \n",
    "data3 = data2.copy()\n",
    "feature_scaler(data3, 'Age')\n",
    "feature_scaler(data3, 'Fare')\n",
    "print(data3[['Survived', 'norm_sex', 'Age', 'norm_Age', 'Fare', 'norm_Fare']][:10])"
   ]
  },
  {
   "cell_type": "markdown",
   "metadata": {},
   "source": [
    "__Great!__ Our data is now all munged into submission.\n",
    "\n",
    "The next step is to extract our survivor flag into an array (vector). This is the \"label\" for our supervised machine learning problem.\n",
    "\n",
    "Then, we need to split our input features and labels into two groups: one for training and one for testing.\n",
    "\n",
    "There are nice utilities for these tasks. Also, we will start calling our data X and y since they are our dependent and indepednet variables."
   ]
  },
  {
   "cell_type": "code",
   "execution_count": null,
   "metadata": {
    "collapsed": false
   },
   "outputs": [],
   "source": [
    "import numpy as np # linear algebra\n",
    "from sklearn.model_selection import train_test_split\n",
    "from keras.utils import to_categorical\n",
    "\n",
    "y = np.array(data3['Survived'].values)\n",
    "X = data3[['norm_sex', 'norm_Age', 'norm_Fare']].values # we have three features\n",
    "X_train, X_test, y_train, y_test = train_test_split(X, y, test_size=0.20)\n",
    "print(y[:10])\n",
    "print(X[:10])"
   ]
  },
  {
   "cell_type": "markdown",
   "metadata": {},
   "source": [
    "# ...and now presenting Keras\n",
    "Keras is a neural network API that abstracts low-level toolkits like Theno and TensorFlow. It makes it really easy to read the code and abstracts away a lot of boilerplate. If you think of a neural network as something like this:\n",
    "\n",
    "![Nerual Network](Colored_neural_network.svg)\n",
    "\n",
    "Using Keras will take your intuition and turn it into code very easily.\n",
    "\n",
    "The basic idea is that we define a neural netowrk architecture, compile it down to the underlying implementation, and then fit the model with our training data. Once that is done, we can use the model to predict new observations.\n",
    "\n",
    "Let's code it.\n"
   ]
  },
  {
   "cell_type": "code",
   "execution_count": null,
   "metadata": {
    "collapsed": false
   },
   "outputs": [],
   "source": [
    "from keras.models import Sequential\n",
    "from keras.layers.core import Dense, Dropout, Activation\n",
    "\n",
    "model = Sequential()\n",
    "model.add(Dense(20, input_dim=3, activation='relu'))\n",
    "model.add(Dense(1, activation='softmax'))\n",
    "\n",
    "model.compile(loss='binary_crossentropy', optimizer='adam', metrics=['accuracy'])\n",
    "model.summary()\n",
    "model.fit(X_train, y_train, batch_size=50, epochs=20, verbose=0)"
   ]
  },
  {
   "cell_type": "code",
   "execution_count": null,
   "metadata": {
    "collapsed": false
   },
   "outputs": [],
   "source": [
    "prediction = model.predict(X_test, verbose=0)\n",
    "\n",
    "correct = 0\n",
    "for i in range(0, prediction.shape[0]):\n",
    "    if np.argmax(prediction[i]) == np.argmax(y_test[i]):\n",
    "        correct = correct + 1\n",
    "\n",
    "accuracy = correct / prediction.shape[0]\n",
    "print(\"\\nDONE. %f\" % accuracy)"
   ]
  },
  {
   "cell_type": "markdown",
   "metadata": {},
   "source": [
    "Does that say \"DONE. 1.000000\" up there? That means 💯!\n",
    "\n",
    "WOW! Magic!\n",
    "\n",
    "Let's put that in terms of our original hypothesis. We can say that given sex, age, and ticket price our model can determine Titanic disaster survival."
   ]
  },
  {
   "cell_type": "code",
   "execution_count": null,
   "metadata": {
    "collapsed": true
   },
   "outputs": [],
   "source": []
  }
 ],
 "metadata": {
  "celltoolbar": "Slideshow",
  "kernelspec": {
   "display_name": "Python 3",
   "language": "python",
   "name": "python3"
  },
  "language_info": {
   "codemirror_mode": {
    "name": "ipython",
    "version": 3
   },
   "file_extension": ".py",
   "mimetype": "text/x-python",
   "name": "python",
   "nbconvert_exporter": "python",
   "pygments_lexer": "ipython3",
   "version": "3.5.3"
  }
 },
 "nbformat": 4,
 "nbformat_minor": 0
}
